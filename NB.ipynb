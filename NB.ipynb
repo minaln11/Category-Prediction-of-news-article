{
 "cells": [
  {
   "cell_type": "markdown",
   "id": "b8e73aed",
   "metadata": {},
   "source": [
    "## Naive Bayes on News aggregator dataset\n"
   ]
  },
  {
   "cell_type": "markdown",
   "id": "070df807",
   "metadata": {},
   "source": []
  },
  {
   "cell_type": "markdown",
   "id": "745aece2",
   "metadata": {},
   "source": [
    "The dataset that I chose is the News Aggregator Dataset, available on Kaggle. The News aggregator dataset can provide a wealth of diverse text data that can be used for wide range of NLP tasks such as text analysis, sentiment analysis, topic modelling etc. It includes collection of news from the year 2014(March 10 - August 10). The data is obtained from various news sources such as Reuters, CNN, etc. and it contains headlines, URLS and categories of new stories.\n",
    "The features in the dataset are \n",
    "\n",
    "title: Denotes the headlines or title of the news article\n",
    "\n",
    "URL: link to the news article\n",
    "\n",
    "Publisher: the news agency that published the article\n",
    "\n",
    "hostname: the main website where news article is published\n",
    "\n",
    "Category : the category of the news item; one of:\n",
    "-- b : business\n",
    "-- t : science and technology\n",
    "-- e : entertainment\n",
    "-- m : health\n",
    "\n",
    "STORY : alphanumeric ID of the news story that the article discusses\n",
    "\n",
    "TIMESTAMP : approximate timestamp of the article's publication, given in Unix time (seconds since midnight on Jan 1, 1970)\n",
    "\n",
    "It was collected by a web aggregator. The different news categories in the dataset include business, science and technology, entertainment and health.\n"
   ]
  },
  {
   "cell_type": "markdown",
   "id": "dfcc9d4f",
   "metadata": {},
   "source": [
    "### Research question"
   ]
  },
  {
   "cell_type": "markdown",
   "id": "360ac36e",
   "metadata": {},
   "source": [
    "The reasearch question that the problem set will try to answer is *'With how much accuracy can we predict the category of news article based on its title and publisher'* The categories in the dataset include business, science and technology, entertainment, and health. I will be using Naive Bayes algorithm for this. Naive Bayes is supervised learning algorithm. It is useful for handling text datasets and works by calculating probability of each class based on the input feature and predicts the class with the highest probability"
   ]
  },
  {
   "cell_type": "markdown",
   "id": "088e982b",
   "metadata": {},
   "source": [
    "### **Why is this algorithm a good way of answering your research question? (2pts)**"
   ]
  },
  {
   "cell_type": "markdown",
   "id": "03e1ef9f",
   "metadata": {},
   "source": [
    "Naive Bayes is a probabilistic algorithm that uses Bayes theorem to calculate the probability. Naive Bayes makes a naive assumption that all the features are independent of each other, which means that it assumes that the presence of one feature does not affect the probability of the other features, this allows to model the condiitonal probability of class given the features using the Bayes theorem. \n",
    "Naive Bayes is commonly used for text classification of high dimensional data, additionally it is relatively robust to overfitting."
   ]
  },
  {
   "cell_type": "markdown",
   "id": "6aea3b13",
   "metadata": {},
   "source": [
    "### **Using the data you chose and the algorithm you chose, read in your data and run your model. **"
   ]
  },
  {
   "cell_type": "code",
   "execution_count": 2,
   "id": "229191b2",
   "metadata": {},
   "outputs": [],
   "source": [
    "import numpy as np\n",
    "import pandas as pd\n",
    "import matplotlib.pyplot as plt"
   ]
  },
  {
   "cell_type": "markdown",
   "id": "616b4a9b",
   "metadata": {},
   "source": [
    "*Reading the data*"
   ]
  },
  {
   "cell_type": "code",
   "execution_count": 3,
   "id": "31a96fb4",
   "metadata": {},
   "outputs": [
    {
     "name": "stdout",
     "output_type": "stream",
     "text": [
      "(422419, 8)\n"
     ]
    },
    {
     "data": {
      "text/html": [
       "<div>\n",
       "<style scoped>\n",
       "    .dataframe tbody tr th:only-of-type {\n",
       "        vertical-align: middle;\n",
       "    }\n",
       "\n",
       "    .dataframe tbody tr th {\n",
       "        vertical-align: top;\n",
       "    }\n",
       "\n",
       "    .dataframe thead th {\n",
       "        text-align: right;\n",
       "    }\n",
       "</style>\n",
       "<table border=\"1\" class=\"dataframe\">\n",
       "  <thead>\n",
       "    <tr style=\"text-align: right;\">\n",
       "      <th></th>\n",
       "      <th>ID</th>\n",
       "      <th>TITLE</th>\n",
       "      <th>URL</th>\n",
       "      <th>PUBLISHER</th>\n",
       "      <th>CATEGORY</th>\n",
       "      <th>STORY</th>\n",
       "      <th>HOSTNAME</th>\n",
       "      <th>TIMESTAMP</th>\n",
       "    </tr>\n",
       "  </thead>\n",
       "  <tbody>\n",
       "    <tr>\n",
       "      <th>0</th>\n",
       "      <td>1</td>\n",
       "      <td>Fed official says weak data caused by weather,...</td>\n",
       "      <td>http://www.latimes.com/business/money/la-fi-mo...</td>\n",
       "      <td>Los Angeles Times</td>\n",
       "      <td>b</td>\n",
       "      <td>ddUyU0VZz0BRneMioxUPQVP6sIxvM</td>\n",
       "      <td>www.latimes.com</td>\n",
       "      <td>1394470370698</td>\n",
       "    </tr>\n",
       "    <tr>\n",
       "      <th>1</th>\n",
       "      <td>2</td>\n",
       "      <td>Fed's Charles Plosser sees high bar for change...</td>\n",
       "      <td>http://www.livemint.com/Politics/H2EvwJSK2VE6O...</td>\n",
       "      <td>Livemint</td>\n",
       "      <td>b</td>\n",
       "      <td>ddUyU0VZz0BRneMioxUPQVP6sIxvM</td>\n",
       "      <td>www.livemint.com</td>\n",
       "      <td>1394470371207</td>\n",
       "    </tr>\n",
       "    <tr>\n",
       "      <th>2</th>\n",
       "      <td>3</td>\n",
       "      <td>US open: Stocks fall after Fed official hints ...</td>\n",
       "      <td>http://www.ifamagazine.com/news/us-open-stocks...</td>\n",
       "      <td>IFA Magazine</td>\n",
       "      <td>b</td>\n",
       "      <td>ddUyU0VZz0BRneMioxUPQVP6sIxvM</td>\n",
       "      <td>www.ifamagazine.com</td>\n",
       "      <td>1394470371550</td>\n",
       "    </tr>\n",
       "    <tr>\n",
       "      <th>3</th>\n",
       "      <td>4</td>\n",
       "      <td>Fed risks falling 'behind the curve', Charles ...</td>\n",
       "      <td>http://www.ifamagazine.com/news/fed-risks-fall...</td>\n",
       "      <td>IFA Magazine</td>\n",
       "      <td>b</td>\n",
       "      <td>ddUyU0VZz0BRneMioxUPQVP6sIxvM</td>\n",
       "      <td>www.ifamagazine.com</td>\n",
       "      <td>1394470371793</td>\n",
       "    </tr>\n",
       "    <tr>\n",
       "      <th>4</th>\n",
       "      <td>5</td>\n",
       "      <td>Fed's Plosser: Nasty Weather Has Curbed Job Gr...</td>\n",
       "      <td>http://www.moneynews.com/Economy/federal-reser...</td>\n",
       "      <td>Moneynews</td>\n",
       "      <td>b</td>\n",
       "      <td>ddUyU0VZz0BRneMioxUPQVP6sIxvM</td>\n",
       "      <td>www.moneynews.com</td>\n",
       "      <td>1394470372027</td>\n",
       "    </tr>\n",
       "  </tbody>\n",
       "</table>\n",
       "</div>"
      ],
      "text/plain": [
       "   ID                                              TITLE  \\\n",
       "0   1  Fed official says weak data caused by weather,...   \n",
       "1   2  Fed's Charles Plosser sees high bar for change...   \n",
       "2   3  US open: Stocks fall after Fed official hints ...   \n",
       "3   4  Fed risks falling 'behind the curve', Charles ...   \n",
       "4   5  Fed's Plosser: Nasty Weather Has Curbed Job Gr...   \n",
       "\n",
       "                                                 URL          PUBLISHER  \\\n",
       "0  http://www.latimes.com/business/money/la-fi-mo...  Los Angeles Times   \n",
       "1  http://www.livemint.com/Politics/H2EvwJSK2VE6O...           Livemint   \n",
       "2  http://www.ifamagazine.com/news/us-open-stocks...       IFA Magazine   \n",
       "3  http://www.ifamagazine.com/news/fed-risks-fall...       IFA Magazine   \n",
       "4  http://www.moneynews.com/Economy/federal-reser...          Moneynews   \n",
       "\n",
       "  CATEGORY                          STORY             HOSTNAME      TIMESTAMP  \n",
       "0        b  ddUyU0VZz0BRneMioxUPQVP6sIxvM      www.latimes.com  1394470370698  \n",
       "1        b  ddUyU0VZz0BRneMioxUPQVP6sIxvM     www.livemint.com  1394470371207  \n",
       "2        b  ddUyU0VZz0BRneMioxUPQVP6sIxvM  www.ifamagazine.com  1394470371550  \n",
       "3        b  ddUyU0VZz0BRneMioxUPQVP6sIxvM  www.ifamagazine.com  1394470371793  \n",
       "4        b  ddUyU0VZz0BRneMioxUPQVP6sIxvM    www.moneynews.com  1394470372027  "
      ]
     },
     "execution_count": 3,
     "metadata": {},
     "output_type": "execute_result"
    }
   ],
   "source": [
    "#Read Data\n",
    "df=pd.read_csv('uci-news-aggregator.csv')\n",
    "print(df.shape)\n",
    "\n",
    "#Displaying few records of the dataset\n",
    "df.head()\n",
    "\n",
    "\n"
   ]
  },
  {
   "cell_type": "markdown",
   "id": "964a6494",
   "metadata": {},
   "source": [
    "*Checking for missing values*"
   ]
  },
  {
   "cell_type": "code",
   "execution_count": 4,
   "id": "9b6a0a34",
   "metadata": {},
   "outputs": [
    {
     "name": "stdout",
     "output_type": "stream",
     "text": [
      "NA values in title column: 0\n",
      "NA values in publisher column: 2\n",
      "After filling NA values\n",
      "0\n"
     ]
    }
   ],
   "source": [
    "#Check if there are missing values\n",
    "print(\"NA values in title column:\",df['TITLE'].isna().sum())\n",
    "print(\"NA values in publisher column:\",df['PUBLISHER'].isna().sum())\n",
    "\n",
    "#Fill in the missing values\n",
    "print(\"After filling NA values\")\n",
    "df[\"PUBLISHER\"].fillna('', inplace=True)\n",
    "print(df['PUBLISHER'].isna().sum())"
   ]
  },
  {
   "cell_type": "markdown",
   "id": "5ab5fa90",
   "metadata": {},
   "source": [
    "*Preprocessing the data and building the model*"
   ]
  },
  {
   "cell_type": "code",
   "execution_count": 5,
   "id": "da0a521a",
   "metadata": {},
   "outputs": [],
   "source": [
    "#Running the model\n",
    "\n",
    "from nltk.stem import PorterStemmer\n",
    "from nltk.corpus import stopwords\n",
    "import re\n",
    "from sklearn.model_selection import train_test_split\n",
    "from sklearn.feature_extraction.text import TfidfVectorizer\n",
    "from sklearn.naive_bayes import MultinomialNB\n",
    "from sklearn.metrics import accuracy_score\n",
    "\n",
    "stemmer=PorterStemmer()\n",
    "stop_words=set(stopwords.words('english'))\n",
    "\n",
    "def preprocess_text(text):\n",
    "    text = text.lower()  # Convert to lowercase\n",
    "    text = re.sub(r'[^\\w\\s]', '', text)  # Remove punctuation\n",
    "    text = ' '.join([stemmer.stem(word) for word in text.split() if word not in stop_words])  # Stemming and stopword removal\n",
    "    return text\n",
    "   \n",
    "\n",
    "df['TITLE']=df['TITLE'].apply(preprocess_text)\n",
    "df['PUBLISHER']=df['PUBLISHER'].apply(preprocess_text)\n",
    "\n",
    "df['TEXT']=df['TITLE']+\" \"+df['PUBLISHER']\n",
    "\n",
    "X_train, X_test, y_train, y_test = train_test_split(df[\"TEXT\"], df[\"CATEGORY\"], test_size=0.2, random_state=42)\n",
    "\n",
    "vectorizer = TfidfVectorizer()\n",
    "X_train_vec = vectorizer.fit_transform(X_train)\n",
    "X_test_vec = vectorizer.transform(X_test)\n",
    "\n",
    "\n",
    "\n"
   ]
  },
  {
   "cell_type": "code",
   "execution_count": 9,
   "id": "1ef49a88",
   "metadata": {},
   "outputs": [
    {
     "name": "stdout",
     "output_type": "stream",
     "text": [
      "280241    e\n",
      "96315     b\n",
      "280410    e\n",
      "284975    e\n",
      "379072    m\n",
      "233281    e\n",
      "77308     t\n",
      "363221    e\n",
      "247498    b\n",
      "176734    t\n",
      "Name: CATEGORY, dtype: object\n",
      "\n",
      " Predicted labels:\n",
      "['e' 'b' 'e' 'e' 'b' 't' 't' 'e' 'b' 't']\n",
      "\n",
      "Accuracy: 89.90223000804886\n"
     ]
    }
   ],
   "source": [
    "nb_classifier = MultinomialNB()\n",
    "nb_classifier.fit(X_train_vec, y_train)\n",
    "\n",
    "y_pred = nb_classifier.predict(X_test_vec)\n",
    "\n",
    "print(y_test[:10])\n",
    "print(\"\\n Predicted labels:\")\n",
    "print(y_pred[:10])\n",
    "\n",
    "# Evaluating accuracy of the classifier\n",
    "accuracy = accuracy_score(y_test, y_pred)\n",
    "print(\"\\nAccuracy:\", accuracy*100)"
   ]
  },
  {
   "cell_type": "code",
   "execution_count": 10,
   "id": "cb9395b4",
   "metadata": {},
   "outputs": [
    {
     "name": "stdout",
     "output_type": "stream",
     "text": [
      "Confusion Matrix:\n",
      " [[20830   649   252  1683]\n",
      " [  591 29022   167   573]\n",
      " [  710   646  7374   294]\n",
      " [ 1954   771   241 18727]]\n"
     ]
    }
   ],
   "source": [
    "from sklearn.metrics import confusion_matrix\n",
    "\n",
    "cm = confusion_matrix(y_test, y_pred)\n",
    "print(\"Confusion Matrix:\\n\", cm)"
   ]
  },
  {
   "cell_type": "markdown",
   "id": "ef63cb8a",
   "metadata": {},
   "source": [
    "### Tinkering with parameters"
   ]
  },
  {
   "cell_type": "markdown",
   "id": "24098e88",
   "metadata": {},
   "source": [
    "##### 1) *Tinkering with maximum number of features*"
   ]
  },
  {
   "cell_type": "code",
   "execution_count": 11,
   "id": "4eb01f7c",
   "metadata": {
    "scrolled": true
   },
   "outputs": [],
   "source": [
    "vectorizer = TfidfVectorizer(max_features=5000)\n",
    "X_train_vec = vectorizer.fit_transform(X_train)\n",
    "X_test_vec = vectorizer.transform(X_test)\n",
    "\n",
    "nb_classifier_1 = MultinomialNB()\n",
    "nb_classifier_1.fit(X_train_vec, y_train)\n",
    "\n",
    "y_pred_1 = nb_classifier_1.predict(X_test_vec)\n",
    "\n"
   ]
  },
  {
   "cell_type": "markdown",
   "id": "f5ad6218",
   "metadata": {},
   "source": [
    "##### 2) *Using different Vectorizer*"
   ]
  },
  {
   "cell_type": "code",
   "execution_count": 12,
   "id": "1982ddae",
   "metadata": {},
   "outputs": [],
   "source": [
    "from sklearn.feature_extraction.text import CountVectorizer\n",
    "\n",
    "vectorizer = CountVectorizer()\n",
    "X_train_vec = vectorizer.fit_transform(X_train)\n",
    "X_test_vec = vectorizer.transform(X_test)\n",
    "\n",
    "nb_classifier_2 = MultinomialNB()\n",
    "nb_classifier_2.fit(X_train_vec, y_train)\n",
    "\n",
    "y_pred_2 = nb_classifier_2.predict(X_test_vec)\n",
    "\n",
    "\n"
   ]
  },
  {
   "cell_type": "markdown",
   "id": "57d6c955",
   "metadata": {},
   "source": [
    "##### 3)*Varying alpha value*"
   ]
  },
  {
   "cell_type": "code",
   "execution_count": 13,
   "id": "018043a0",
   "metadata": {},
   "outputs": [
    {
     "name": "stdout",
     "output_type": "stream",
     "text": [
      "\n",
      "Accuracy with alpha 1: 92.03872922683584\n"
     ]
    }
   ],
   "source": [
    "nb_classifier_3 = MultinomialNB(alpha=1)\n",
    "nb_classifier_3.fit(X_train_vec, y_train)\n",
    "\n",
    "y_pred_3 = nb_classifier_3.predict(X_test_vec)\n",
    "\n",
    "accuracy_3=accuracy_score(y_test,y_pred_3)\n",
    "print(\"\\nAccuracy with alpha 1:\",accuracy_3*100)"
   ]
  },
  {
   "cell_type": "code",
   "execution_count": 14,
   "id": "90a32293",
   "metadata": {},
   "outputs": [],
   "source": [
    "nb_classifier_4 = MultinomialNB(alpha=10)\n",
    "nb_classifier_4.fit(X_train_vec, y_train)\n",
    "y_pred_4 = nb_classifier_4.predict(X_test_vec)\n",
    "\n"
   ]
  },
  {
   "cell_type": "markdown",
   "id": "fae2d767",
   "metadata": {},
   "source": [
    "### Report the accuracy of  model. Either through RMSE or another metric. How did accuracy change with your parameter tinkering? "
   ]
  },
  {
   "cell_type": "code",
   "execution_count": 11,
   "id": "d9fb18cb",
   "metadata": {},
   "outputs": [
    {
     "name": "stdout",
     "output_type": "stream",
     "text": [
      "Accuracy with 5000 features: 89.90223000804886\n",
      "\n",
      "Accuracy with CountVectorizer: 92.03872922683584\n",
      "\n",
      "Accuracy with alpha=10 : 90.57809762795323\n"
     ]
    }
   ],
   "source": [
    "#For model1 \n",
    "accuracy_1 = accuracy_score(y_test, y_pred_1)\n",
    "print(\"Accuracy with 5000 features:\", accuracy_1*100)\n",
    "\n",
    "\n",
    "#For model2 \n",
    "accuracy_2 = accuracy_score(y_test, y_pred_2)\n",
    "print(\"\\nAccuracy with CountVectorizer:\", accuracy_2*100)\n",
    "\n",
    "#For model4\n",
    "accuracy_4 = accuracy_score(y_test, y_pred_4)\n",
    "print(\"\\nAccuracy with alpha=10 :\", accuracy_4*100)"
   ]
  },
  {
   "cell_type": "markdown",
   "id": "5c099017",
   "metadata": {},
   "source": [
    "### Create a visualization demonstrating your findings. "
   ]
  },
  {
   "cell_type": "code",
   "execution_count": 51,
   "id": "a912d7fb",
   "metadata": {},
   "outputs": [
    {
     "data": {
      "image/png": "[encoded data removed]",
      "text/plain": [
       "<Figure size 640x480 with 1 Axes>"
      ]
     },
     "metadata": {},
     "output_type": "display_data"
    }
   ],
   "source": [
    "import matplotlib.pyplot as plt\n",
    "\n",
    "# Create a list of the accuracies\n",
    "accuracies = [accuracy*100, accuracy_1*100,accuracy_2*100, accuracy_4*100]\n",
    "\n",
    "# Create a list of the model names\n",
    "models = [\"Default NB\", \"Nb with max features=5000\",\"CountVectorizer\",\"NB with alpha 10\"]\n",
    "\n",
    "# Create a bar plot\n",
    "plt.bar(models, accuracies)\n",
    "\n",
    "# Add title and axis labels\n",
    "plt.title(\"Accuracy of Naive Bayes classifiers\")\n",
    "plt.xlabel(\"Model\")\n",
    "plt.ylabel(\"Accuracy\")\n",
    "\n",
    "\n",
    "\n",
    "# Set y-axis range to 0-100 with steps of 10\n",
    "plt.yticks(range(0, 101, 10))\n",
    "plt.xticks(rotation=45)\n",
    "# Show the plot\n",
    "plt.show()\n",
    "\n",
    "\n",
    "\n"
   ]
  },
  {
   "cell_type": "markdown",
   "id": "340ad7ad",
   "metadata": {},
   "source": [
    "The bar graph shows the accuracy of the tinkered models with respect to the default naive bayes model. We can see that the Naive bayes model with count vectorizer has the highest accuracy but it is comparable to the default naivebayes with tfidf vectorizer. The model shows less accuracy with tfidf vectorizer and with max features=5000. "
   ]
  },
  {
   "cell_type": "code",
   "execution_count": 17,
   "id": "3a48d299",
   "metadata": {},
   "outputs": [
    {
     "data": {
      "image/png": "[encoded data removed]",
      "text/plain": [
       "<Figure size 640x480 with 2 Axes>"
      ]
     },
     "metadata": {},
     "output_type": "display_data"
    }
   ],
   "source": [
    "import seaborn as sns\n",
    "import matplotlib.pyplot as plt\n",
    "\n",
    "# Compute confusion matrix as per model1\n",
    "cm = confusion_matrix(y_test, y_pred)\n",
    "\n",
    "# Create heatmap\n",
    "sns.heatmap(cm, annot=True, cmap=\"Blues\", fmt=\"d\", xticklabels=nb_classifier.classes_, yticklabels=nb_classifier.classes_)\n",
    "\n",
    "plt.title(\"Confusion Matrix\")\n",
    "plt.xlabel(\"Predicted Labels\")\n",
    "plt.ylabel(\"True Labels\")\n",
    "plt.show()\n"
   ]
  },
  {
   "cell_type": "markdown",
   "id": "1d0a76a9",
   "metadata": {},
   "source": [
    "Above is the depiction of the confusion matrix for various categories of the news, on the right side we see the total number of onservations for each category.The x-axis of the heatmap will represent the predicted labels, and the y-axis will represent the true labels. The values in the diagonal of the matrix represent the number of correctly classified samples, while the off-diagonal values represent the misclassified samples. The color intensity of each cell represents the frequency of samples classified as such."
   ]
  },
  {
   "cell_type": "markdown",
   "id": "3ecd222a",
   "metadata": {},
   "source": [
    "###  Challenges faced"
   ]
  },
  {
   "cell_type": "markdown",
   "id": "12adf798",
   "metadata": {},
   "source": [
    "Some of the challenges that I ran into in the problem set were as follow, most of these problems were faced due to the dataset\n",
    "\n",
    "1)Handling out of vocabulary words : Some of the words in the dataset were not being able to be handled properly for the naive bayes. Hence I used stemmer to overcome the issue and convert the words into their root form\n",
    "\n",
    "2)Choosing the right feature : Choosing the correct feature is critical to Naive Bayes, there were different features to select from, but for the research question I tried to choose 2 features which seemed most relevant\n",
    "\n",
    "3)Text data can usually be sparse which means that there can be words with low frequencies which can lead to high number of 0 probabilities in naive bayes. To overcome this smoothing parameter alpha can be used ( which is doen in the tinkering section)\n",
    "\n",
    "4)Imbalance in news categories : some categories of news may have more data than others which can affect the model being biased and performing poorly on minority class. To overcome this oversampling the minortiy class or undersampling the majority class can be tried out.\n",
    "\n",
    "\n"
   ]
  },
  {
   "cell_type": "markdown",
   "id": "988bfd0e",
   "metadata": {},
   "source": [
    "### Further notes"
   ]
  },
  {
   "cell_type": "markdown",
   "id": "4b1241ad",
   "metadata": {},
   "source": [
    "The potential benefits of the above Naive Bayes model built for news aggregator dataset are:\n",
    "\n",
    "1) Personalization : Model could be used to personalize news feeds for users which could in turn help business to deliver updated news and related content for users.\n",
    "\n",
    "2) Faster news curation:  Model can categorize news articles saving time and effort for human curators, this will be usefull for organizations that process high volumne of news articles every day.\n",
    "\n",
    "Potential Harms of the model\n",
    "\n",
    "1) The dataset may contain biases and stereotypes that the model could serve to perpetuate.For instance, the model may falsely label similar items as \"crime\" even if they are unrelated to low-income locations if the dataset contains an excessive amount of news articles concerning crime in low-income areas. This could potentially perpetuate bias and contribute to much larger problems\n",
    "\n",
    "2) Lack of context :  Without taking into account other crucial elements like the author's tone and intent, the historical context of the incident being reported, and any potential biases of the news source, the model is trained exclusively on the text content of the article. The model's classification of news articles into categories such as politics, business, and entertainment may not always accurately reflect the full complexity and nuance of the news.Depending on the article's subject, a piece about climate change, for instance, might be categorized as science or politics, but this categorization might not adequately convey the issue's importance and urgency."
   ]
  },
  {
   "cell_type": "markdown",
   "id": "17d3d145",
   "metadata": {},
   "source": [
    "### Future work"
   ]
  },
  {
   "cell_type": "markdown",
   "id": "3d0e66e0",
   "metadata": {},
   "source": [
    "Another research question for future work could be - Can accuracy of the model be improved by incorportating additional contextual information like location,sentiment analysis or topic modelling or other preprocessing techniques affect the accuracy or performance of the model. Understanding the impact of the techniques can help optimize and improve the performance of the models. Many time in preprocessing the context and tone of the news article is lost, using sentiment analysis the tone of news article can be included which could provide valuable insights into how different emotions may affect the likelihood of a news article being classified into a certain category. We might be able to better the classifier's performance by identifying the major themes or subjects in the news articles with the use of key modeling."
   ]
  }
 ],
 "metadata": {
  "kernelspec": {
   "display_name": "Python 3 (ipykernel)",
   "language": "python",
   "name": "python3"
  },
  "language_info": {
   "codemirror_mode": {
    "name": "ipython",
    "version": 3
   },
   "file_extension": ".py",
   "mimetype": "text/x-python",
   "name": "python",
   "nbconvert_exporter": "python",
   "pygments_lexer": "ipython3",
   "version": "3.9.13"
  }
 },
 "nbformat": 4,
 "nbformat_minor": 5
}
